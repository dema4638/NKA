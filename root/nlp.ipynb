{
 "cells": [
  {
   "cell_type": "code",
   "execution_count": 8,
   "metadata": {
    "collapsed": false,
    "pycharm": {
     "name": "#%%\n"
    }
   },
   "outputs": [
    {
     "name": "stdout",
     "output_type": "stream",
     "text": [
      "Parameters: lematizer = spacy, vectorizer = bow, ngram = unigram, classifier = multinomial\n"
     ]
    },
    {
     "name": "stdout",
     "output_type": "stream",
     "text": [
      "col_0         0         1         2         3\nrow_0                                        \n0      0.832378  0.051576  0.070201  0.045845\n1      0.090247  0.758370  0.081514  0.069869\n2      0.107389  0.066010  0.790148  0.036453\n3      0.042636  0.077519  0.058140  0.821705\nVidutinis training score: 0.9107452339688041\nVidutinis testing score: 0.800252047889099\n\n"
     ]
    },
    {
     "name": "stdout",
     "output_type": "stream",
     "text": [
      "Parameters: lematizer = spacy, vectorizer = bow, ngram = bigram, classifier = multinomial\n"
     ]
    },
    {
     "name": "stdout",
     "output_type": "stream",
     "text": [
      "col_0         0         1         2         3\nrow_0                                        \n0      0.393855  0.068436  0.505587  0.032123\n1      0.060519  0.260807  0.635447  0.043228\n2      0.022417  0.023392  0.942495  0.011696\n3      0.028455  0.046070  0.677507  0.247967\nVidutinis training score: 0.9594296518040019\nVidutinis testing score: 0.5081915563957152\n\n"
     ]
    },
    {
     "name": "stdout",
     "output_type": "stream",
     "text": [
      "Parameters: lematizer = spacy, vectorizer = bow, ngram = unigram-bigram, classifier = multinomial\n"
     ]
    },
    {
     "name": "stdout",
     "output_type": "stream",
     "text": [
      "col_0         0         1         2         3\nrow_0                                        \n0      0.813822  0.076164  0.077574  0.032440\n1      0.145892  0.698300  0.076487  0.079320\n2      0.098923  0.062684  0.795299  0.043095\n3      0.056911  0.048780  0.055556  0.838753\nVidutinis training score: 0.9612415314321727\nVidutinis testing score: 0.7879647132955262\n\n"
     ]
    },
    {
     "data": {
      "image/png": "[encoded data removed]",
      "text/plain": [
       "<Figure size 288x288 with 2 Axes>"
      ]
     },
     "metadata": {},
     "output_type": "display_data"
    },
    {
     "data": {
      "image/png": "[encoded data removed]",
      "text/plain": [
       "<Figure size 288x288 with 2 Axes>"
      ]
     },
     "metadata": {},
     "output_type": "display_data"
    },
    {
     "data": {
      "image/png": "[encoded data removed]",
      "text/plain": [
       "<Figure size 288x288 with 2 Axes>"
      ]
     },
     "metadata": {},
     "output_type": "display_data"
    }
   ],
   "source": [
    "#!/usr/bin/env python\n",
    "# coding: utf-8\n",
    "\n",
    "# In[1]:\n",
    "import nltk\n",
    "\n",
    "\n",
    "import pandas as pd\n",
    "import string\n",
    "import spacy\n",
    "from spacy.lang.lt.stop_words import STOP_WORDS\n",
    "from sklearn.preprocessing import LabelEncoder\n",
    "from wordcloud import WordCloud\n",
    "import matplotlib.pyplot as plt\n",
    "from sklearn.feature_extraction.text import CountVectorizer, TfidfTransformer, TfidfVectorizer\n",
    "from sklearn.model_selection import train_test_split\n",
    "from sklearn.naive_bayes import MultinomialNB\n",
    "import numpy as np\n",
    "import matplotlib.pyplot as plt\n",
    "from sklearn.svm import LinearSVC\n",
    "\n",
    "def text_processing(text):\n",
    "     # 1. Skyrybos ženklų šalinimas\n",
    "    nopunct=[char for char in text if char not in string.punctuation]\n",
    "    nopunct=''.join(nopunct)\n",
    "    nopunct = ' '.join(nopunct.split())\n",
    "    #Lemavimas\n",
    "    doc = nlp(nopunct)\n",
    "    string1=''\n",
    "    for word in doc:\n",
    "        string1+=word.lemma_+ ' '\n",
    "    string1=string1[:-1]\n",
    "    # 3. \"Stop\" žodžių šalinimas\n",
    "    doc = nlp(string1)\n",
    "    return [word.text.lower() for word in doc if not word.is_stop]\n",
    "\n",
    "\n",
    "def text_preprocessor(text):\n",
    "    nopunct = [char for char in text if char not in string.punctuation]\n",
    "    nopunct = ''.join(nopunct)\n",
    "    nopunct = ' '.join(nopunct.split())\n",
    "\n",
    "    # Lemmatising\n",
    "    doc = nlp(nopunct)\n",
    "    string1 = ''\n",
    "    for word in doc:\n",
    "        string1 += word.lemma_ + ' '\n",
    "    return string1\n",
    "\n",
    "\n",
    "def label_encoding(data):\n",
    "    y = data['Author']\n",
    "    labelencoder = LabelEncoder()\n",
    "    y = labelencoder.fit_transform(y)\n",
    "    return y\n",
    "    \n",
    "\n",
    "def word_cloud_visualisation(data,X):\n",
    "    wordcloud1 = WordCloud().generate(X[1]) # Biliunas\n",
    "    wordcloud2 = WordCloud().generate(X[900]) # Zemaite\n",
    "    wordcloud3 = WordCloud().generate(X[301]) # Donelaitis\n",
    "     \n",
    "    print(X[1])\n",
    "    print(data['Author'][1])\n",
    "    plt.imshow(wordcloud1, interpolation='bilinear')\n",
    "    plt.show()\n",
    "    print(X[900])\n",
    "    print(data['Author'][900])\n",
    "    plt.imshow(wordcloud2, interpolation='bilinear')\n",
    "    plt.show()\n",
    "    print(X[301])\n",
    "    print(data['Author'][301])\n",
    "    plt.imshow(wordcloud3, interpolation='bilinear')\n",
    "    plt.show()\n",
    "\n",
    "\n",
    "def model_trainning(text_bow_train, y_train, classifier):\n",
    "    model = classifier\n",
    "    model = model.fit(text_bow_train, y_train)\n",
    "    return model\n",
    "\n",
    "\n",
    "def show_confusion_matrix(y_test, predictions):\n",
    "    matrix = pd.crosstab(y_test,predictions)\n",
    "    #matrix = confusion_matrix(y_test,predictions)\n",
    "    norm_matrix = matrix/matrix.sum(axis = 1)[:,np.newaxis]\n",
    "    print (norm_matrix)\n",
    "    plt.matshow(norm_matrix, cmap=plt.cm.Reds)\n",
    "    plt.colorbar()\n",
    "    plt.ylabel(\"Actual\")\n",
    "    plt.xlabel(\"Predicted\")\n",
    "\n",
    "\n",
    "for m in ('spacy',):\n",
    "    method = 'spacy'  # input('Kokus lematizuotus naudoti? {spacy, lkssais}')\n",
    "    for v in ('bow',):\n",
    "        vectorizer_input = v  # input('bow - naudoti bag of words, kita - naudoti TF-IDF')\n",
    "        spacy_stopwords = spacy.lang.lt.stop_words.STOP_WORDS\n",
    "        all_ngrams = ('none',)\n",
    "        if vectorizer_input == 'bow':\n",
    "            all_ngrams = ('unigram', 'bigram', 'unigram-bigram')\n",
    "        \n",
    "        for ng in all_ngrams:\n",
    "            if vectorizer_input == 'bow':\n",
    "                ngram = ng  # input('{unigram, bigram, unigram-bigram')\n",
    "                if ngram == 'unigram':\n",
    "                    ngram = (1, 1)\n",
    "                elif ngram == 'bigram':\n",
    "                    ngram = (2, 2)\n",
    "                else:\n",
    "                    ngram = (1, 2)\n",
    "            \n",
    "            for cl in ('multinomial',):\n",
    "                classifier = cl  # input('{multinomial, svc}')\n",
    "                if classifier == 'multinomial':\n",
    "                    classifier = MultinomialNB()\n",
    "                else:\n",
    "                    classifier = LinearSVC()\n",
    "                \n",
    "                data = pd.read_csv(f'./root/{method}.csv')\n",
    "                nlp = spacy.load('lt_core_news_sm')\n",
    "                \n",
    "                print(f\"Parameters: lematizer = {m}, vectorizer = {v}, ngram = {ng}, classifier = {cl}\")\n",
    "                \n",
    "                score_sum = 0\n",
    "                test_score_sum = 0\n",
    "                iter_count = 1\n",
    "                \n",
    "                for i in range(0, iter_count):\n",
    "                \n",
    "                    X = data['Text']\n",
    "                    y = label_encoding(data)\n",
    "                    # word_cloud_visualisation(data,X)\n",
    "                    # Splitting data into testing and training data\n",
    "                    X_train, X_test, y_train, y_test = train_test_split(X, y, test_size=0.2)\n",
    "                    if vectorizer_input == 'bow':\n",
    "                        vectorizer = CountVectorizer(ngram_range=ngram, stop_words=spacy_stopwords)\n",
    "                    else:\n",
    "                        vectorizer = TfidfVectorizer()\n",
    "                    text_bow_train = vectorizer.fit_transform(X_train)\n",
    "                    text_bow_test = vectorizer.transform(X_test)\n",
    "                    # print(bow_transformer.get_feature_names())\n",
    "                    # print(text_bow_train.toarray())\n",
    "                    \n",
    "                    model = model_trainning(text_bow_train, y_train, classifier)\n",
    "                    \n",
    "                    # model.predict(text_bow_test)\n",
    "                    predictions = model.predict(text_bow_test)\n",
    "                    show_confusion_matrix(y_test, predictions)\n",
    "                    score_sum += model.score(text_bow_train, y_train)\n",
    "                    test_score_sum += model.score(text_bow_test, y_test)\n",
    "                \n",
    "                print(f'Vidutinis training score: {score_sum / iter_count}')\n",
    "                print(f'Vidutinis testing score: {test_score_sum / iter_count}')\n",
    "                print()\n",
    "\n",
    "\n",
    "\n",
    "\n",
    "\n",
    "\n",
    "\n",
    "\n"
   ]
  },
  {
   "cell_type": "code",
   "execution_count": null,
   "metadata": {},
   "outputs": [],
   "source": []
  }
 ],
 "metadata": {
  "kernelspec": {
   "display_name": "Python 3",
   "language": "python",
   "name": "python3"
  },
  "language_info": {
   "codemirror_mode": {
    "name": "ipython",
    "version": 3
   },
   "file_extension": ".py",
   "mimetype": "text/x-python",
   "name": "python",
   "nbconvert_exporter": "python",
   "pygments_lexer": "ipython3",
   "version": "3.7.7"
  }
 },
 "nbformat": 4,
 "nbformat_minor": 4
}
